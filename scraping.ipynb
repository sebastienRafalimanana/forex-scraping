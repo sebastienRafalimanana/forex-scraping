{
 "cells": [
  {
   "cell_type": "code",
   "metadata": {
    "jupyter": {
     "is_executing": true
    }
   },
   "source": [
    "import asyncio\n",
    "import time\n",
    "from bs4 import BeautifulSoup\n",
    "import aiohttp\n",
    "\n",
    "async def fetch_and_parse(url, headers):\n",
    "  async with aiohttp.ClientSession() as session:\n",
    "    async with session.get(url, headers=headers) as response:\n",
    "      response.raise_for_status()\n",
    "      html = await response.read()\n",
    "      return BeautifulSoup(html, 'html.parser')\n",
    "  \n",
    "async def scraping_strategies(document:BeautifulSoup):\n",
    "    import pandas as pd\n",
    "    calendar = document.find(\"table\",class_=\"calendar__table\")\n",
    "    print(calendar)\n",
    "    \n",
    "    #Extract columns\n",
    "    header_elements = document.find('thead').find_all('th')\n",
    "    print(\"build:headers(columns)\")\n",
    "    headers = []\n",
    "    for element in header_elements:\n",
    "        text = element.get_text(strip=True)\n",
    "        if element.find('a'):\n",
    "            text = text.replace('Time Options', '') \n",
    "        headers.append(text)\n",
    "    print(headers)\n",
    "    # Extract data \n",
    "    print(\"build:rows(features)\")\n",
    "    data = []\n",
    "    for row in document.find('tbody').find_all('tr')[1:]:\n",
    "        row_data = []\n",
    "        for cell in row.find_all('td'):\n",
    "            text = cell.text.strip()\n",
    "            if cell.find('a'):\n",
    "                text = text.replace('Subscribe to', '')  \n",
    "            row_data.append(text)\n",
    "        data.append(row_data)\n",
    "    # Create the DataFrame with extracted headers and data\n",
    "    print(\"build:dataFrame\")\n",
    "    df = pd.DataFrame(data, columns=headers)\n",
    "    print(df)\n",
    "    print(calendar)\n",
    "    \n",
    "    \n",
    "\n",
    "async def main():\n",
    "  url = \"https://www.forexfactory.com/calendar\"\n",
    "  headers = {\"Accept\": \"*/*\", \"User-Agent\": \"Thunder Client (https://www.thunderclient.com)\"}\n",
    "\n",
    "  try:\n",
    "    print(\"Fetch forexfactory...\")\n",
    "    start_time = time.time()\n",
    "    scraped_document = await fetch_and_parse(url, headers)\n",
    "    print(scraped_document)\n",
    "    end_time = time.time()\n",
    "    #await scraping_strategies(scraped_document)\n",
    "    print(f\"Fetched in {end_time - start_time:.2f} seconds\")\n",
    "  except aiohttp.ClientError as e:\n",
    "    print(f\"Error: {e}\")\n",
    "    \n",
    "loop = asyncio.get_event_loop()\n",
    "loop.create_task(main())\n"
   ],
   "outputs": [],
   "execution_count": null
  },
  {
   "metadata": {},
   "cell_type": "code",
   "outputs": [],
   "execution_count": null,
   "source": ""
  }
 ],
 "metadata": {
  "kernelspec": {
   "display_name": "Python 3",
   "language": "python",
   "name": "python3"
  },
  "language_info": {
   "codemirror_mode": {
    "name": "ipython",
    "version": 3
   },
   "file_extension": ".py",
   "mimetype": "text/x-python",
   "name": "python",
   "nbconvert_exporter": "python",
   "pygments_lexer": "ipython3",
   "version": "3.10.12"
  }
 },
 "nbformat": 4,
 "nbformat_minor": 2
}
